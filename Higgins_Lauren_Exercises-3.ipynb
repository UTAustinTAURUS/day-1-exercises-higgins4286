{
 "cells": [
  {
   "cell_type": "markdown",
   "metadata": {},
   "source": [
    "## Exercises\n",
    "\n",
    "This will be a notebook for you to work through the exercises during the workshop. Feel free to work on these at whatever pace you feel works for you, but I encourage you to work together! Edit the title of this notebook with your name because I will ask you to upload your final notebook to our shared github repository at the end of this workshop.\n",
    "\n",
    "Feel free to google the documentation for numpy, matplotlib, etc.\n",
    "\n",
    "Don't forget to start by importing any libraries you need."
   ]
  },
  {
   "cell_type": "code",
   "execution_count": 1,
   "metadata": {},
   "outputs": [],
   "source": [
    "# import your libraries here\n",
    "\n",
    "import numpy as np #'import' loads up the package. \n",
    "#you can use 'as' to define a shortcut so you don't need to type\n",
    "#numpy before every use of the package. Most people use 'np'.\n",
    "\n",
    "import astropy\n",
    "\n",
    "import matplotlib.pyplot as plt\n",
    "\n",
    "from scipy import integrate #'from' allows you to import a specific sub-package\n",
    "\n",
    "import matplotlib.pyplot as plt\n",
    "\n",
    "import math\n",
    "\n",
    "from fractions import Fraction\n",
    "\n",
    "from scipy.stats import norm\n",
    "\n",
    "from scipy.interpolate import interp1d\n",
    "\n",
    "from scipy import optimize as opt"
   ]
  },
  {
   "cell_type": "markdown",
   "metadata": {},
   "source": [
    "### Day 1\n",
    "\n",
    "#### Exercise 1\n",
    "\n",
    "   A. Create an array with 10 evenly spaced values in logspace ranging from 0.1 to 10,000.\n",
    "\n",
    "   B. Print the following values: The first value in the array, the final value in the array, and the range of 5th-8th values.\n",
    "\n",
    "   C. Append the numbers 10,001 and 10,002 (as floats) to the array. Make sure you define this!\n",
    "\n",
    "   D. Divide your new array by 2.\n",
    "\n",
    "   E. Reshape your array to be 3 x 4. \n",
    "\n",
    "   F. Multiply your array by itself.\n",
    "    \n",
    "   G.  Print out the number of dimensions and the maximum value."
   ]
  },
  {
   "cell_type": "code",
   "execution_count": 3,
   "metadata": {},
   "outputs": [
    {
     "name": "stdout",
     "output_type": "stream",
     "text": [
      "0.1 10000.0 [ 16.68100537  59.94842503 215.443469   774.26368268]\n",
      "9 <function amax at 0x103fc3378>\n"
     ]
    }
   ],
   "source": [
    "#A array with 10 evenly spaced values in logspace ranging from 0.1 to 10,000\n",
    "logarray = np.array(np.logspace(-1, 4, 10))\n",
    "\n",
    "#B Print the following values: The first value in the array, \n",
    "#  the final value in the array, and the range of 5th-8th values\n",
    "first_value = logarray[0]\n",
    "last_value = logarray[-1]\n",
    "range_5_8 = logarray[4:8] #assuming inclusive values\n",
    "print(first_value, last_value, range_5_8)\n",
    "\n",
    "#C Append the numbers 10,001 and 10,002 (as floats) to the array.\n",
    "logarray_append = np.append(logarray, [10001., 10002.])\n",
    "\n",
    "#D Divide new array by 2\n",
    "logarray_div_2 = logarray_append / 2\n",
    "\n",
    "#E Reshape array to be 3x4\n",
    "logarray_reshape = np.reshape(logarray_div_2, (3, 4))\n",
    "\n",
    "#F Multiply array by itself\n",
    "#  used matrix multiplication and multiplied by the array's compose\n",
    "logarray_mult = np.dot(logarray_reshape, logarray_reshape.T) \n",
    "\n",
    "#G print out the number of dimensions and the maximum value\n",
    "print(logarray_mult.size, np.max)"
   ]
  },
  {
   "cell_type": "markdown",
   "metadata": {},
   "source": [
    "### Day 2"
   ]
  },
  {
   "cell_type": "markdown",
   "metadata": {},
   "source": [
    "#### Exercise 1\n",
    "\n",
    "   A. Create an array containing the values 4, 0, 6, 5, 11, 14, 12, 14, 5, 16.\n",
    "   B. Create a 10x2 array of zeros.\n",
    "   C. Write a for loop that checks if each of the numbers in the first array squared is less than 100. If the statement is true, change that row of your zeros array to equal the number and its square. Hint: you can change the value of an array by stating \"zerosarray[i] = [a number, a number squared]\". \n",
    "   D. Print out the final version of your zeros array.\n",
    "    \n",
    "Hint: should you loop over the elements of the array or the indices of the array?"
   ]
  },
  {
   "cell_type": "code",
   "execution_count": 57,
   "metadata": {},
   "outputs": [
    {
     "name": "stdout",
     "output_type": "stream",
     "text": [
      "[[ 4. 16.]\n",
      " [ 0.  0.]\n",
      " [ 6. 36.]\n",
      " [ 5. 25.]\n",
      " [ 0.  0.]\n",
      " [ 0.  0.]\n",
      " [ 0.  0.]\n",
      " [ 0.  0.]\n",
      " [ 5. 25.]\n",
      " [ 0.  0.]]\n"
     ]
    }
   ],
   "source": [
    "# your solutions here\n",
    "\n",
    "\n",
    "# A. Create an array containing the values 4, 0, 6, 5, 11, 14, 12, 14, 5, 16\n",
    "myarray = np.array([4, 0, 6, 5, 11, 14, 12, 14, 5, 16])\n",
    "\n",
    "# B. Create a 10x2 array of zeros\n",
    "zero_array = np.zeros((10, 2))\n",
    "\n",
    "# C.Write a for loop that checks if each of the numbers in the first array squared is < 100. \n",
    "#   If the statement is true, change that row of your zeros array to equal the number \n",
    "#   and its square.\n",
    "\n",
    "for A, val in enumerate(myarray):\n",
    "    if val**2 < 100: \n",
    "        # change that row of your zeros array to equal the number and its square\n",
    "        zero_array[A] = [val, val**2]\n",
    "        # D. Print out the final version of your zeros array.\n",
    "print(zero_array) # Note to self: Make sure you print here. Otherwise it will not print the new array.\n",
    "\n",
    "\n"
   ]
  },
  {
   "cell_type": "markdown",
   "metadata": {},
   "source": [
    "#### Exercise 2\n",
    "    \n",
    "   A. Write a function that takes an array of numbers and spits out the Gaussian distribution. Yes, there is a function for this in Python, but it's good to do this from scratch! This is the equation:\n",
    "    \n",
    "$$ f(x) = \\frac{1}{\\sigma \\sqrt{2\\pi}} \\exp{\\frac{-(x - \\mu)^2}{2\\sigma^2}} $$\n",
    "\n",
    "    (Pi is built into numpy, so call it as np.pi.)\n",
    "\n",
    "   B. Call the function a few different times for different values of mu and sigma, between -10 < x < 10.\n",
    "    \n",
    "   C. Plot each version, making sure they are differentiated with different colors and/or linestyles and include a legend. Btw, here's a list of the customizations available in matplotlib:\n",
    "    \n",
    "    https://matplotlib.org/3.1.0/api/_as_gen/matplotlib.pyplot.plot.html\n",
    "    \n",
    "    https://matplotlib.org/gallery/color/named_colors.html\n",
    "    \n",
    "   D. Save your figure.\n",
    "    \n",
    "If you have multiple lines with plt.plot(), Python will plot all of them together, unless you write plt.show() after each one. I want these all on one plot."
   ]
  },
  {
   "cell_type": "code",
   "execution_count": 138,
   "metadata": {},
   "outputs": [
    {
     "name": "stdout",
     "output_type": "stream",
     "text": [
      "[2.11881925e-27 7.69459863e-23 1.02797736e-18 5.05227108e-15\n",
      " 9.13472041e-12 6.07588285e-09 1.48671951e-06 1.33830226e-04\n",
      " 4.43184841e-03 5.39909665e-02 2.41970725e-01 3.98942280e-01\n",
      " 2.41970725e-01 5.39909665e-02 4.43184841e-03 1.33830226e-04\n",
      " 1.48671951e-06 6.07588285e-09 9.13472041e-12 5.05227108e-15\n",
      " 1.02797736e-18] \n",
      " \n",
      " [3.03794142e-09 5.38488002e-08 7.43359757e-07 7.99187055e-06\n",
      " 6.69151129e-05 4.36341348e-04 2.21592421e-03 8.76415025e-03\n",
      " 2.69954833e-02 6.47587978e-02 1.20985362e-01 1.76032663e-01\n",
      " 1.99471140e-01 1.76032663e-01 1.20985362e-01 6.47587978e-02\n",
      " 2.69954833e-02 8.76415025e-03 2.21592421e-03 4.36341348e-04\n",
      " 6.69151129e-05] \n",
      " \n",
      " [1.11236208e-05 4.46100753e-05 1.60090217e-04 5.14092999e-04\n",
      " 1.47728280e-03 3.79866201e-03 8.74062970e-03 1.79969888e-02\n",
      " 3.31590463e-02 5.46700249e-02 8.06569082e-02 1.06482669e-01\n",
      " 1.25794409e-01 1.32980760e-01 1.25794409e-01 1.06482669e-01\n",
      " 8.06569082e-02 5.46700249e-02 3.31590463e-02 1.79969888e-02\n",
      " 8.74062970e-03]\n"
     ]
    },
    {
     "data": {
      "image/png": "[encoded data removed]",
      "text/plain": [
       "<Figure size 432x288 with 1 Axes>"
      ]
     },
     "metadata": {},
     "output_type": "display_data"
    }
   ],
   "source": [
    "# your solutions here\n",
    "\n",
    "# A. Write a function that takes an array of numbers and spits out the Gaussian distribution. \n",
    "\n",
    "def gau(sigma, x, mu):\n",
    "    fx = (1 / (sigma * (2*np.pi)**(1/2)) * np.exp(-1 * (x-mu)**2 / (2 * sigma**2)))\n",
    "    return fx\n",
    "\n",
    "# B. Call the function a few different times for different values of mu and sigma, \n",
    "#    between -10 < x < 10.\n",
    "\n",
    "values_1 = gau(1, np.linspace(-10, 10, 21) , 1)\n",
    "values_2 = gau(2, np.linspace(-10, 10, 21) , 2)\n",
    "values_3 = gau(3, np.linspace(-10, 10, 21) , 3)\n",
    "\n",
    "print(values_1, \"\\n\", \"\\n\", values_2, \"\\n\", \"\\n\", values_3)\n",
    "#The \"\\n\" gives me a space between each printed array\n",
    "\n",
    "# C. Plot each version, making sure they are differentiated with different colors \n",
    "#    and/or linestyles and include a legend.\n",
    "\n",
    "# I need this line to save my figure\n",
    "fig = plt.figure()\n",
    "\n",
    "# This is what is happening on the x-axis\n",
    "xarray = np.linspace(-10, 10, 200)\n",
    "\n",
    "# These are the values I am giving my function to plot\n",
    "values_1 = gau(1, xarray , 1)\n",
    "values_2 = gau(2, xarray , 2)\n",
    "values_3 = gau(3, xarray , 3)\n",
    "\n",
    "# I can plot several lines on the same graph if I split them up like this\n",
    "plt.plot(xarray, values_1, 'b--', label=\"values_1\") \n",
    "plt.plot(xarray, values_2, 'g--', label=\"values_2\") \n",
    "plt.plot(xarray, values_3, 'c--', label=\"values_3\")\n",
    "\n",
    "# I can denote location, frame, and font size, respectively\n",
    "plt.legend(loc='upper right', frameon=True, fontsize=10)\n",
    "\n",
    "# The labels for the x and y axies\n",
    "plt.xlabel(r'x', fontsize=16)\n",
    "plt.ylabel(r'$f(x)$', fontsize=16)\n",
    "\n",
    "# Title for my plot\n",
    "plt.title('Gaussian')\n",
    "\n",
    "fig.savefig('Lauren_Gaussian.jpg')\n",
    "\n",
    "plt.show()\n",
    "\n"
   ]
  },
  {
   "cell_type": "markdown",
   "metadata": {},
   "source": [
    "### Day 3\n",
    "\n",
    "#### Exercise 1\n",
    "\n",
    "There is a file in this directory called \"histogram_exercise.dat\" which consists of of randomly generated samples from a Gaussian distribution with an unknown $\\mu$ and $\\sigma$. Using what you've learned about fitting data, load up this file using np.genfromtxt, fit a Gaussian curve to the data and plot both the curve and the histogram of the data. As always, label everything, play with the colors, and choose a judicious bin size. \n",
    "\n",
    "Hint: if you attempt to call a function from a library or package that hasn't been imported, you will get an error."
   ]
  },
  {
   "cell_type": "code",
   "execution_count": 20,
   "metadata": {},
   "outputs": [
    {
     "data": {
      "text/plain": [
       "Text(0.5,1,'Histogram Exercise')"
      ]
     },
     "execution_count": 20,
     "metadata": {},
     "output_type": "execute_result"
    },
    {
     "data": {
      "image/png": "[encoded data removed]",
      "text/plain": [
       "<Figure size 432x288 with 1 Axes>"
      ]
     },
     "metadata": {},
     "output_type": "display_data"
    }
   ],
   "source": [
    "# your solution here\n",
    "#load up this file using np.genfromtxt\n",
    "\n",
    "x = np.genfromtxt(\"histogram_exercise.dat\")\n",
    "\n",
    "mu, sigma = norm.fit(x)\n",
    "z = np.linspace(mu-(4*sigma), mu+(4*sigma), 1000)\n",
    "pdf = norm.pdf(z, mu, sigma)\n",
    "\n",
    "plt.plot(z, pdf, 'k-', linewidth=2)\n",
    "plt.hist(x, bins=40, color='mediumpurple', alpha=0.4, density=True, fill=True, histtype='step')\n",
    "plt.title(\"Histogram Exercise\")\n"
   ]
  },
  {
   "cell_type": "markdown",
   "metadata": {},
   "source": [
    "#### Exercise 2\n",
    "\n",
    "Create a 1D interpolation along these arrays. Plot both the data (as points) and the interpolation (as a dotted line). Also plot the value of the interpolated function at x=325. What does the function look like to you?"
   ]
  },
  {
   "cell_type": "code",
   "execution_count": 18,
   "metadata": {},
   "outputs": [
    {
     "name": "stdout",
     "output_type": "stream",
     "text": [
      "18.014499999999998\n"
     ]
    },
    {
     "data": {
      "image/png": "[encoded data removed]",
      "text/plain": [
       "<Figure size 432x288 with 1 Axes>"
      ]
     },
     "metadata": {},
     "output_type": "display_data"
    }
   ],
   "source": [
    "x = np.array([0., 50., 100., 150., 200., 250., 300., 350., 400., 450., 500])\n",
    "y = np.array([0., 7.071, 10., 12.247, 14.142, 15.811, 17.321, 18.708, 20., 21.213, 22.361])\n",
    "\n",
    "# solution here\n",
    "\n",
    "interp = interp1d(x, y)\n",
    "xnew = np.array([0., 50., 100., 150., 200., 250., 300., 350., 400., 450., 500])\n",
    "ynew = interp(xnew)\n",
    "\n",
    "plt.plot(xnew, ynew, ':')\n",
    "plt.plot(x, y, 'or')\n",
    "\n",
    "ynew_2 = interp(325)\n",
    "plt.plot(325, ynew_2, 'og', markersize=6)\n",
    "print(ynew_2)\n",
    "plt.show()\n",
    "\n",
    "# This looks similar to a log base 10 graph but slightly different."
   ]
  },
  {
   "cell_type": "markdown",
   "metadata": {},
   "source": [
    "### Day 4\n",
    "\n",
    "#### Exercise 1\n",
    "\n",
    "Let's practice some more plotting skills, now incorporating units. \n",
    "\n",
    "A. Write a function that takes an array of frequencies and spits out the Planck distribution. That's this equation:\n",
    "\n",
    "$$ B(\\nu, T) = \\frac{2h\\nu^3/c^2}{e^{\\frac{h\\nu}{k_B T}} - 1} $$\n",
    "\n",
    "This requires you to use the Planck constant, the Boltzmann constant, and the speed of light from astropy. Make sure they are all in cgs. \n",
    "    \n",
    "B. Plot your function in log-log space for T = 25, 50, and 300 K. The most sensible frequency range is about 10^5 to 10^15 Hz. Hint: if your units are correct, your peak values of B(T) should be on the order of 10^-10. Make sure everything is labelled. "
   ]
  },
  {
   "cell_type": "code",
   "execution_count": null,
   "metadata": {},
   "outputs": [],
   "source": [
    "# solution here"
   ]
  },
  {
   "cell_type": "markdown",
   "metadata": {},
   "source": [
    "#### Exercise 2\n",
    "\n",
    "Let's put everything together now! Here's a link to the full documentation for FITSFigure, which will tell you all of the customizable options: http://aplpy.readthedocs.io/en/stable/api/aplpy.FITSFigure.html. Let's create a nice plot of M51 with a background optical image and X-ray contours overplotted.\n",
    "\n",
    "The data came from here if you're interested: http://chandra.harvard.edu/photo/openFITS/multiwavelength_data.html\n",
    "\n",
    "A. Using astropy, open the X-RAY data (m51_xray.fits). Flatten the data array and find its standard deviation, and call it sigma.\n",
    "\n",
    "B. Using aplpy, plot a colorscale image of the OPTICAL data. Choose a colormap that is visually appealing (list of them here: https://matplotlib.org/2.0.2/examples/color/colormaps_reference.html). Show the colorbar. \n",
    "\n",
    "C. Plot the X-ray data as contours above the optical image. Make the contours spring green with 80% opacity and dotted lines. Make the levels go from 2$\\sigma$ to 10$\\sigma$ in steps of 2$\\sigma$. (It might be easier to define the levels array before show_contours, and set levels=levels.)"
   ]
  },
  {
   "cell_type": "code",
   "execution_count": null,
   "metadata": {},
   "outputs": [],
   "source": [
    "# solution here"
   ]
  }
 ],
 "metadata": {
  "kernelspec": {
   "display_name": "Python 3",
   "language": "python",
   "name": "python3"
  },
  "language_info": {
   "codemirror_mode": {
    "name": "ipython",
    "version": 3
   },
   "file_extension": ".py",
   "mimetype": "text/x-python",
   "name": "python",
   "nbconvert_exporter": "python",
   "pygments_lexer": "ipython3",
   "version": "3.6.5"
  }
 },
 "nbformat": 4,
 "nbformat_minor": 2
}
