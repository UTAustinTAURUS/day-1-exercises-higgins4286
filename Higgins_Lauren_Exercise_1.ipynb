{
 "cells": [
  {
   "cell_type": "code",
   "execution_count": 1,
   "metadata": {},
   "outputs": [
    {
     "name": "stdout",
     "output_type": "stream",
     "text": [
      "0.1 10000.0 [ 16.68100537  59.94842503 215.443469   774.26368268]\n",
      "9 <function amax at 0x10488a9d8>\n"
     ]
    }
   ],
   "source": [
    "import numpy as np #'import' loads up the package. \n",
    "#you can use 'as' to define a shortcut so you don't need to type\n",
    "#numpy before every use of the package. Most people use 'np'.\n",
    "\n",
    "import astropy\n",
    "\n",
    "import matplotlib.pyplot as plt\n",
    "\n",
    "from scipy import integrate #'from' allows you to import a specific sub-package\n",
    "\n",
    "#A array with 10 evenly spaced values in logspace ranging from 0.1 to 10,000\n",
    "logarray = np.array(np.logspace(-1, 4, 10))\n",
    "\n",
    "#B Print the following values: The first value in the array, \n",
    "#  the final value in the array, and the range of 5th-8th values\n",
    "first_value = logarray[0]\n",
    "last_value = logarray[-1]\n",
    "range_5_8 = logarray[4:8] #assuming inclusive values\n",
    "print(first_value, last_value, range_5_8)\n",
    "\n",
    "#C Append the numbers 10,001 and 10,002 (as floats) to the array.\n",
    "logarray_append = np.append(logarray, [10001., 10002.])\n",
    "\n",
    "#D Divide new array by 2\n",
    "logarray_div_2 = logarray_append / 2\n",
    "\n",
    "#E Reshape array to be 3x4\n",
    "logarray_reshape = np.reshape(logarray_div_2, (3, 4))\n",
    "\n",
    "#F Multiply array by itself\n",
    "#  used matrix multiplication and multiplied by the array's compose\n",
    "logarray_mult = np.dot(logarray_reshape, logarray_reshape.T) \n",
    "\n",
    "#G print out the number of dimensions and the maximum value\n",
    "print(logarray_mult.size, np.max)"
   ]
  },
  {
   "cell_type": "code",
   "execution_count": null,
   "metadata": {},
   "outputs": [],
   "source": []
  }
 ],
 "metadata": {
  "kernelspec": {
   "display_name": "Python 3",
   "language": "python",
   "name": "python3"
  },
  "language_info": {
   "codemirror_mode": {
    "name": "ipython",
    "version": 3
   },
   "file_extension": ".py",
   "mimetype": "text/x-python",
   "name": "python",
   "nbconvert_exporter": "python",
   "pygments_lexer": "ipython3",
   "version": "3.6.5"
  }
 },
 "nbformat": 4,
 "nbformat_minor": 2
}
